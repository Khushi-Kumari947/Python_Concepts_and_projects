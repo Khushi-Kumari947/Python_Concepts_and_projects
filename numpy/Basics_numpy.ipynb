{
 "cells": [
  {
   "cell_type": "code",
   "execution_count": 6,
   "id": "2d5bed7b-1703-4183-9d81-8c45378641a7",
   "metadata": {},
   "outputs": [],
   "source": [
    "import numpy as np"
   ]
  },
  {
   "cell_type": "code",
   "execution_count": 8,
   "id": "20df8657-8721-410c-a229-6245d31e7e6a",
   "metadata": {},
   "outputs": [
    {
     "name": "stdout",
     "output_type": "stream",
     "text": [
      "[10 20 30]\n",
      "[ 30 100  70]\n",
      "[ 40 120 100]\n"
     ]
    }
   ],
   "source": [
    "a1=np.array([10,20,30])\n",
    "a2=np.array([30,100,70])\n",
    "print(a1)\n",
    "print(a2)\n",
    "print(a1+a2)"
   ]
  },
  {
   "cell_type": "code",
   "execution_count": 10,
   "id": "efb410e0-fad5-4863-a594-4d3b6ce10b92",
   "metadata": {},
   "outputs": [
    {
     "name": "stdout",
     "output_type": "stream",
     "text": [
      "['10' '30' '20']\n",
      "[10. 30. 20.]\n"
     ]
    }
   ],
   "source": [
    "a=np.array([10,30,\"20\"])\n",
    "print(a)\n",
    "a3=np.array([10,30,20.0])\n",
    "print(a3)"
   ]
  },
  {
   "cell_type": "code",
   "execution_count": 12,
   "id": "2bd560e1-34c9-4753-ad49-e645c606417e",
   "metadata": {},
   "outputs": [
    {
     "data": {
      "text/plain": [
       "(3,)"
      ]
     },
     "execution_count": 12,
     "metadata": {},
     "output_type": "execute_result"
    }
   ],
   "source": [
    "arr=np.array([10,120,30,40,50])\n",
    "a.shape"
   ]
  },
  {
   "cell_type": "code",
   "execution_count": 14,
   "id": "026865cc-5e66-4bc7-9a69-037700e15f76",
   "metadata": {},
   "outputs": [
    {
     "data": {
      "text/plain": [
       "array([ 0,  2,  4,  6,  8, 10, 12, 14, 16, 18])"
      ]
     },
     "execution_count": 14,
     "metadata": {},
     "output_type": "execute_result"
    }
   ],
   "source": [
    "np.arange(0,20,2)"
   ]
  },
  {
   "cell_type": "code",
   "execution_count": 16,
   "id": "c7873942-60a8-413d-aafe-c5f641ac5b61",
   "metadata": {},
   "outputs": [
    {
     "data": {
      "text/plain": [
       "(10,)"
      ]
     },
     "execution_count": 16,
     "metadata": {},
     "output_type": "execute_result"
    }
   ],
   "source": [
    "np.arange(0,20,2).shape"
   ]
  },
  {
   "cell_type": "code",
   "execution_count": 18,
   "id": "f3f59a24-67f9-4a61-872a-2f9b2c81eebc",
   "metadata": {},
   "outputs": [
    {
     "data": {
      "text/plain": [
       "array([[ 0,  2,  4,  6,  8],\n",
       "       [10, 12, 14, 16, 18]])"
      ]
     },
     "execution_count": 18,
     "metadata": {},
     "output_type": "execute_result"
    }
   ],
   "source": [
    "np.arange(0,20,2).reshape((2,5))"
   ]
  },
  {
   "cell_type": "code",
   "execution_count": 20,
   "id": "c0668e90-64d1-452e-b022-0b0d8d40cb2a",
   "metadata": {},
   "outputs": [
    {
     "data": {
      "text/plain": [
       "array([36, 25, 31, 36, 32, 33, 34])"
      ]
     },
     "execution_count": 20,
     "metadata": {},
     "output_type": "execute_result"
    }
   ],
   "source": [
    "np.random.randint(20,40,7)"
   ]
  },
  {
   "cell_type": "code",
   "execution_count": 32,
   "id": "8a8f6a96-7409-4f0e-aab4-30220b6f2643",
   "metadata": {},
   "outputs": [
    {
     "data": {
      "text/plain": [
       "array([[ 0.83491575,  1.20098027,  0.16483591,  0.13208073,  0.91134395,\n",
       "         0.1902496 ],\n",
       "       [-0.03857284, -0.77470664, -0.2384823 ,  1.37949928,  0.79140878,\n",
       "        -1.02431482],\n",
       "       [ 0.86602609,  0.65788881, -1.2695906 , -0.20620193,  0.67420726,\n",
       "         0.45798509],\n",
       "       [ 0.09247028, -1.08569216, -1.3962601 ,  2.67958709, -1.02846434,\n",
       "         1.51033352],\n",
       "       [-1.22890741,  0.20839925, -1.01084518, -0.87038512, -0.47787319,\n",
       "        -0.60922722]])"
      ]
     },
     "execution_count": 32,
     "metadata": {},
     "output_type": "execute_result"
    }
   ],
   "source": [
    "#create an array of 5X6 having values values from standard normal distribution\n",
    "np.random.randn(5,6)"
   ]
  },
  {
   "cell_type": "code",
   "execution_count": 38,
   "id": "2cd05731-4464-4c34-9dbd-8ce34cabb311",
   "metadata": {},
   "outputs": [
    {
     "data": {
      "text/plain": [
       "array([0.75361024, 0.44473303])"
      ]
     },
     "execution_count": 38,
     "metadata": {},
     "output_type": "execute_result"
    }
   ],
   "source": [
    "np.random.random_sample(2)"
   ]
  },
  {
   "cell_type": "code",
   "execution_count": null,
   "id": "c4783e73-0fa1-45c6-86f3-b049b4a36550",
   "metadata": {},
   "outputs": [],
   "source": []
  }
 ],
 "metadata": {
  "kernelspec": {
   "display_name": "Python 3 (ipykernel)",
   "language": "python",
   "name": "python3"
  },
  "language_info": {
   "codemirror_mode": {
    "name": "ipython",
    "version": 3
   },
   "file_extension": ".py",
   "mimetype": "text/x-python",
   "name": "python",
   "nbconvert_exporter": "python",
   "pygments_lexer": "ipython3",
   "version": "3.12.4"
  }
 },
 "nbformat": 4,
 "nbformat_minor": 5
}
