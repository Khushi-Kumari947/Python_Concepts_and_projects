{
 "cells": [
  {
   "cell_type": "code",
   "execution_count": 1,
   "id": "2d5bed7b-1703-4183-9d81-8c45378641a7",
   "metadata": {},
   "outputs": [],
   "source": [
    "import numpy as np"
   ]
  },
  {
   "cell_type": "code",
   "execution_count": 3,
   "id": "20df8657-8721-410c-a229-6245d31e7e6a",
   "metadata": {},
   "outputs": [
    {
     "name": "stdout",
     "output_type": "stream",
     "text": [
      "[10 20 30]\n",
      "[ 30 100  70]\n",
      "[ 40 120 100]\n"
     ]
    }
   ],
   "source": [
    "a1=np.array([10,20,30])\n",
    "a2=np.array([30,100,70])\n",
    "print(a1)\n",
    "print(a2)\n",
    "print(a1+a2)"
   ]
  },
  {
   "cell_type": "code",
   "execution_count": 15,
   "id": "efb410e0-fad5-4863-a594-4d3b6ce10b92",
   "metadata": {},
   "outputs": [
    {
     "name": "stdout",
     "output_type": "stream",
     "text": [
      "['10' '30' '20']\n",
      "[10. 30. 20.]\n"
     ]
    }
   ],
   "source": [
    "a=np.array([10,30,\"20\"])\n",
    "print(a)\n",
    "a3=np.array([10,30,20.0])\n",
    "print(a3)"
   ]
  },
  {
   "cell_type": "code",
   "execution_count": null,
   "id": "2bd560e1-34c9-4753-ad49-e645c606417e",
   "metadata": {},
   "outputs": [],
   "source": []
  }
 ],
 "metadata": {
  "kernelspec": {
   "display_name": "Python 3 (ipykernel)",
   "language": "python",
   "name": "python3"
  },
  "language_info": {
   "codemirror_mode": {
    "name": "ipython",
    "version": 3
   },
   "file_extension": ".py",
   "mimetype": "text/x-python",
   "name": "python",
   "nbconvert_exporter": "python",
   "pygments_lexer": "ipython3",
   "version": "3.12.4"
  }
 },
 "nbformat": 4,
 "nbformat_minor": 5
}
